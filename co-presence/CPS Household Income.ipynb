{
 "cells": [
  {
   "cell_type": "code",
   "execution_count": 1,
   "metadata": {
    "collapsed": true
   },
   "outputs": [],
   "source": [
    "from datetime import datetime\n",
    "import matplotlib.pyplot as plt\n",
    "import numpy as np\n",
    "import pandas as pd\n",
    "\n",
    "#%load_ext autoreload\n",
    "#%autoreload 2\n",
    "%matplotlib inline\n",
    "%config InlineBackend.figure_format = 'retina'"
   ]
  },
  {
   "cell_type": "markdown",
   "metadata": {},
   "source": [
    "This notebook matches Current Population Survey data from https://cps.ipums.org/cps/ with Social Class information from https://en.wikipedia.org/wiki/Household_income_in_the_United_States"
   ]
  },
  {
   "cell_type": "code",
   "execution_count": 4,
   "metadata": {},
   "outputs": [
    {
     "data": {
      "text/plain": [
       "'C:\\\\Users\\\\gary\\\\Documents\\\\data'"
      ]
     },
     "execution_count": 4,
     "metadata": {},
     "output_type": "execute_result"
    }
   ],
   "source": [
    "pwd"
   ]
  },
  {
   "cell_type": "code",
   "execution_count": 3,
   "metadata": {},
   "outputs": [
    {
     "name": "stdout",
     "output_type": "stream",
     "text": [
      "C:\\Users\\gary\\Documents\\data\n"
     ]
    }
   ],
   "source": [
    "cd C:\\Users\\gary\\Documents\\data"
   ]
  },
  {
   "cell_type": "code",
   "execution_count": 5,
   "metadata": {},
   "outputs": [
    {
     "name": "stdout",
     "output_type": "stream",
     "text": [
      " Volume in drive C is OS\n",
      " Volume Serial Number is F8CA-7CC7\n",
      "\n",
      " Directory of C:\\Users\\gary\\Documents\\data\n",
      "\n",
      "07/02/2017  04:16 PM    <DIR>          .\n",
      "07/02/2017  04:16 PM    <DIR>          ..\n",
      "07/02/2017  08:15 AM    <DIR>          atusact_2016\n",
      "07/01/2017  09:25 AM         3,684,229 atusact_2016.zip\n",
      "07/02/2017  08:15 AM    <DIR>          atuscps_2016\n",
      "07/01/2017  09:26 AM         6,860,353 atuscps_2016.zip\n",
      "07/02/2017  09:28 AM           864,474 atuscpscodebk16.pdf\n",
      "07/02/2017  09:29 AM           570,216 atusintcodebk16.pdf\n",
      "07/01/2017  09:35 AM    <DIR>          atusresp_2016\n",
      "07/01/2017  09:25 AM           841,679 atusresp_2016.zip\n",
      "07/02/2017  08:15 AM    <DIR>          atusrost_2016\n",
      "07/01/2017  09:25 AM           144,334 atusrost_2016.zip\n",
      "07/02/2017  08:17 AM    <DIR>          atusrostec_2016\n",
      "07/01/2017  09:26 AM            23,198 atusrostec_2016.zip\n",
      "07/02/2017  08:17 AM    <DIR>          atussum_2016\n",
      "07/01/2017  09:25 AM           713,076 atussum_2016.zip\n",
      "07/02/2017  08:17 AM    <DIR>          atuswho_2016\n",
      "07/01/2017  09:25 AM           841,409 atuswho_2016.zip\n",
      "07/02/2017  04:16 PM    <DIR>          cps_00001.csv\n",
      "07/02/2017  04:15 PM         1,215,296 cps_00001.csv.gz\n",
      "07/02/2017  09:26 AM            70,656 hinc01_1.xls\n",
      "              11 File(s)     15,828,920 bytes\n",
      "              10 Dir(s)  669,635,338,240 bytes free\n"
     ]
    }
   ],
   "source": [
    "ls"
   ]
  },
  {
   "cell_type": "code",
   "execution_count": 6,
   "metadata": {},
   "outputs": [
    {
     "data": {
      "text/html": [
       "<div>\n",
       "<style>\n",
       "    .dataframe thead tr:only-child th {\n",
       "        text-align: right;\n",
       "    }\n",
       "\n",
       "    .dataframe thead th {\n",
       "        text-align: left;\n",
       "    }\n",
       "\n",
       "    .dataframe tbody tr th {\n",
       "        vertical-align: top;\n",
       "    }\n",
       "</style>\n",
       "<table border=\"1\" class=\"dataframe\">\n",
       "  <thead>\n",
       "    <tr style=\"text-align: right;\">\n",
       "      <th></th>\n",
       "      <th>YEAR</th>\n",
       "      <th>SERIAL</th>\n",
       "      <th>HWTSUPP</th>\n",
       "      <th>ASECFLAG</th>\n",
       "      <th>HHINCOME</th>\n",
       "      <th>WTSUPP</th>\n",
       "    </tr>\n",
       "  </thead>\n",
       "  <tbody>\n",
       "    <tr>\n",
       "      <th>count</th>\n",
       "      <td>185487.0</td>\n",
       "      <td>185487.000000</td>\n",
       "      <td>185487.000000</td>\n",
       "      <td>185487.0</td>\n",
       "      <td>1.854870e+05</td>\n",
       "      <td>185487.000000</td>\n",
       "    </tr>\n",
       "    <tr>\n",
       "      <th>mean</th>\n",
       "      <td>2016.0</td>\n",
       "      <td>48751.964774</td>\n",
       "      <td>1679.426439</td>\n",
       "      <td>1.0</td>\n",
       "      <td>9.119382e+04</td>\n",
       "      <td>1719.088077</td>\n",
       "    </tr>\n",
       "    <tr>\n",
       "      <th>std</th>\n",
       "      <td>0.0</td>\n",
       "      <td>27496.014576</td>\n",
       "      <td>1022.340851</td>\n",
       "      <td>0.0</td>\n",
       "      <td>9.988669e+04</td>\n",
       "      <td>1065.911059</td>\n",
       "    </tr>\n",
       "    <tr>\n",
       "      <th>min</th>\n",
       "      <td>2016.0</td>\n",
       "      <td>2.000000</td>\n",
       "      <td>101.190000</td>\n",
       "      <td>1.0</td>\n",
       "      <td>-9.999000e+03</td>\n",
       "      <td>69.880000</td>\n",
       "    </tr>\n",
       "    <tr>\n",
       "      <th>25%</th>\n",
       "      <td>2016.0</td>\n",
       "      <td>24557.000000</td>\n",
       "      <td>834.760000</td>\n",
       "      <td>1.0</td>\n",
       "      <td>3.510700e+04</td>\n",
       "      <td>846.260000</td>\n",
       "    </tr>\n",
       "    <tr>\n",
       "      <th>50%</th>\n",
       "      <td>2016.0</td>\n",
       "      <td>49263.000000</td>\n",
       "      <td>1640.200000</td>\n",
       "      <td>1.0</td>\n",
       "      <td>6.900000e+04</td>\n",
       "      <td>1651.990000</td>\n",
       "    </tr>\n",
       "    <tr>\n",
       "      <th>75%</th>\n",
       "      <td>2016.0</td>\n",
       "      <td>73243.000000</td>\n",
       "      <td>2133.940000</td>\n",
       "      <td>1.0</td>\n",
       "      <td>1.165530e+05</td>\n",
       "      <td>2218.350000</td>\n",
       "    </tr>\n",
       "    <tr>\n",
       "      <th>max</th>\n",
       "      <td>2016.0</td>\n",
       "      <td>94097.000000</td>\n",
       "      <td>8148.970000</td>\n",
       "      <td>1.0</td>\n",
       "      <td>2.289913e+06</td>\n",
       "      <td>12515.280000</td>\n",
       "    </tr>\n",
       "  </tbody>\n",
       "</table>\n",
       "</div>"
      ],
      "text/plain": [
       "           YEAR         SERIAL        HWTSUPP  ASECFLAG      HHINCOME  \\\n",
       "count  185487.0  185487.000000  185487.000000  185487.0  1.854870e+05   \n",
       "mean     2016.0   48751.964774    1679.426439       1.0  9.119382e+04   \n",
       "std         0.0   27496.014576    1022.340851       0.0  9.988669e+04   \n",
       "min      2016.0       2.000000     101.190000       1.0 -9.999000e+03   \n",
       "25%      2016.0   24557.000000     834.760000       1.0  3.510700e+04   \n",
       "50%      2016.0   49263.000000    1640.200000       1.0  6.900000e+04   \n",
       "75%      2016.0   73243.000000    2133.940000       1.0  1.165530e+05   \n",
       "max      2016.0   94097.000000    8148.970000       1.0  2.289913e+06   \n",
       "\n",
       "              WTSUPP  \n",
       "count  185487.000000  \n",
       "mean     1719.088077  \n",
       "std      1065.911059  \n",
       "min        69.880000  \n",
       "25%       846.260000  \n",
       "50%      1651.990000  \n",
       "75%      2218.350000  \n",
       "max     12515.280000  "
      ]
     },
     "execution_count": 6,
     "metadata": {},
     "output_type": "execute_result"
    }
   ],
   "source": [
    "filename = 'cps_00001.csv/cps_00001.csv'\n",
    "resp = pd.read_csv(filename)\n",
    "resp.describe()"
   ]
  },
  {
   "cell_type": "code",
   "execution_count": 7,
   "metadata": {},
   "outputs": [
    {
     "name": "stdout",
     "output_type": "stream",
     "text": [
      "<class 'pandas.core.frame.DataFrame'>\n",
      "RangeIndex: 185487 entries, 0 to 185486\n",
      "Data columns (total 6 columns):\n",
      "YEAR        185487 non-null int64\n",
      "SERIAL      185487 non-null int64\n",
      "HWTSUPP     185487 non-null float64\n",
      "ASECFLAG    185487 non-null int64\n",
      "HHINCOME    185487 non-null int64\n",
      "WTSUPP      185487 non-null float64\n",
      "dtypes: float64(2), int64(4)\n",
      "memory usage: 8.5 MB\n"
     ]
    }
   ],
   "source": [
    "resp.info()"
   ]
  },
  {
   "cell_type": "code",
   "execution_count": 8,
   "metadata": {},
   "outputs": [
    {
     "data": {
      "text/plain": [
       "['YEAR', 'SERIAL', 'HWTSUPP', 'ASECFLAG', 'HHINCOME', 'WTSUPP']"
      ]
     },
     "execution_count": 8,
     "metadata": {},
     "output_type": "execute_result"
    }
   ],
   "source": [
    "list(resp)"
   ]
  },
  {
   "cell_type": "code",
   "execution_count": 9,
   "metadata": {},
   "outputs": [
    {
     "data": {
      "text/html": [
       "<div>\n",
       "<style>\n",
       "    .dataframe thead tr:only-child th {\n",
       "        text-align: right;\n",
       "    }\n",
       "\n",
       "    .dataframe thead th {\n",
       "        text-align: left;\n",
       "    }\n",
       "\n",
       "    .dataframe tbody tr th {\n",
       "        vertical-align: top;\n",
       "    }\n",
       "</style>\n",
       "<table border=\"1\" class=\"dataframe\">\n",
       "  <thead>\n",
       "    <tr style=\"text-align: right;\">\n",
       "      <th></th>\n",
       "      <th>YEAR</th>\n",
       "      <th>SERIAL</th>\n",
       "      <th>HWTSUPP</th>\n",
       "      <th>ASECFLAG</th>\n",
       "      <th>HHINCOME</th>\n",
       "      <th>WTSUPP</th>\n",
       "    </tr>\n",
       "  </thead>\n",
       "  <tbody>\n",
       "    <tr>\n",
       "      <th>0</th>\n",
       "      <td>2016</td>\n",
       "      <td>2</td>\n",
       "      <td>1132.05</td>\n",
       "      <td>1</td>\n",
       "      <td>13309</td>\n",
       "      <td>1132.05</td>\n",
       "    </tr>\n",
       "    <tr>\n",
       "      <th>1</th>\n",
       "      <td>2016</td>\n",
       "      <td>7</td>\n",
       "      <td>1077.54</td>\n",
       "      <td>1</td>\n",
       "      <td>29296</td>\n",
       "      <td>1077.54</td>\n",
       "    </tr>\n",
       "    <tr>\n",
       "      <th>2</th>\n",
       "      <td>2016</td>\n",
       "      <td>7</td>\n",
       "      <td>1077.54</td>\n",
       "      <td>1</td>\n",
       "      <td>29296</td>\n",
       "      <td>1077.54</td>\n",
       "    </tr>\n",
       "    <tr>\n",
       "      <th>3</th>\n",
       "      <td>2016</td>\n",
       "      <td>8</td>\n",
       "      <td>1151.49</td>\n",
       "      <td>1</td>\n",
       "      <td>24099</td>\n",
       "      <td>1151.49</td>\n",
       "    </tr>\n",
       "    <tr>\n",
       "      <th>4</th>\n",
       "      <td>2016</td>\n",
       "      <td>9</td>\n",
       "      <td>705.00</td>\n",
       "      <td>1</td>\n",
       "      <td>6300</td>\n",
       "      <td>705.00</td>\n",
       "    </tr>\n",
       "  </tbody>\n",
       "</table>\n",
       "</div>"
      ],
      "text/plain": [
       "   YEAR  SERIAL  HWTSUPP  ASECFLAG  HHINCOME   WTSUPP\n",
       "0  2016       2  1132.05         1     13309  1132.05\n",
       "1  2016       7  1077.54         1     29296  1077.54\n",
       "2  2016       7  1077.54         1     29296  1077.54\n",
       "3  2016       8  1151.49         1     24099  1151.49\n",
       "4  2016       9   705.00         1      6300   705.00"
      ]
     },
     "execution_count": 9,
     "metadata": {},
     "output_type": "execute_result"
    }
   ],
   "source": [
    "resp.head()"
   ]
  },
  {
   "cell_type": "code",
   "execution_count": 33,
   "metadata": {},
   "outputs": [
    {
     "data": {
      "text/plain": [
       "1854"
      ]
     },
     "execution_count": 33,
     "metadata": {},
     "output_type": "execute_result"
    }
   ],
   "source": [
    "percent = 0.01\n",
    "n  = percent * len(resp)\n",
    "int(n)"
   ]
  },
  {
   "cell_type": "code",
   "execution_count": 35,
   "metadata": {},
   "outputs": [
    {
     "data": {
      "text/plain": [
       "(441050, 2289913)"
      ]
     },
     "execution_count": 35,
     "metadata": {},
     "output_type": "execute_result"
    }
   ],
   "source": [
    "top01 = resp.nlargest(int(n), 'HHINCOME')\n",
    "top01.HHINCOME.min(), top01.HHINCOME.max()"
   ]
  },
  {
   "cell_type": "code",
   "execution_count": 11,
   "metadata": {},
   "outputs": [
    {
     "data": {
      "text/plain": [
       "20000.0"
      ]
     },
     "execution_count": 11,
     "metadata": {},
     "output_type": "execute_result"
    }
   ],
   "source": [
    "np.percentile(resp.HHINCOME, 12)"
   ]
  },
  {
   "cell_type": "code",
   "execution_count": 15,
   "metadata": {},
   "outputs": [
    {
     "data": {
      "text/plain": [
       "34315.0"
      ]
     },
     "execution_count": 15,
     "metadata": {},
     "output_type": "execute_result"
    }
   ],
   "source": [
    "np.percentile(resp.HHINCOME, 24)"
   ]
  },
  {
   "cell_type": "code",
   "execution_count": 16,
   "metadata": {},
   "outputs": [
    {
     "data": {
      "text/plain": [
       "75010.0"
      ]
     },
     "execution_count": 16,
     "metadata": {},
     "output_type": "execute_result"
    }
   ],
   "source": [
    "np.percentile(resp.HHINCOME, 54)"
   ]
  },
  {
   "cell_type": "code",
   "execution_count": 17,
   "metadata": {},
   "outputs": [
    {
     "data": {
      "text/plain": [
       "146892.67999999993"
      ]
     },
     "execution_count": 17,
     "metadata": {},
     "output_type": "execute_result"
    }
   ],
   "source": [
    "np.percentile(resp.HHINCOME, 84)"
   ]
  },
  {
   "cell_type": "code",
   "execution_count": 18,
   "metadata": {},
   "outputs": [
    {
     "data": {
      "text/plain": [
       "440857.35999999661"
      ]
     },
     "execution_count": 18,
     "metadata": {},
     "output_type": "execute_result"
    }
   ],
   "source": [
    "np.percentile(resp.HHINCOME, 99)"
   ]
  },
  {
   "cell_type": "code",
   "execution_count": null,
   "metadata": {
    "collapsed": true
   },
   "outputs": [],
   "source": []
  }
 ],
 "metadata": {
  "kernelspec": {
   "display_name": "Python 3",
   "language": "python",
   "name": "python3"
  },
  "language_info": {
   "codemirror_mode": {
    "name": "ipython",
    "version": 3
   },
   "file_extension": ".py",
   "mimetype": "text/x-python",
   "name": "python",
   "nbconvert_exporter": "python",
   "pygments_lexer": "ipython3",
   "version": "3.6.1"
  }
 },
 "nbformat": 4,
 "nbformat_minor": 2
}
