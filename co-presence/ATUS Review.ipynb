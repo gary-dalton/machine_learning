{
 "cells": [
  {
   "cell_type": "code",
   "execution_count": 1,
   "metadata": {
    "collapsed": true
   },
   "outputs": [],
   "source": [
    "from datetime import datetime\n",
    "import matplotlib.pyplot as plt\n",
    "import numpy as np\n",
    "import warnings\n",
    "import matplotlib\n",
    "import pandas as pd\n",
    "import scipy.stats as stats\n",
    "import data_dictionary as dd\n",
    "\n",
    "warnings.filterwarnings('ignore')\n",
    "\n",
    "#%load_ext autoreload\n",
    "#%autoreload 2\n",
    "%matplotlib inline\n",
    "%config InlineBackend.figure_format = 'retina'"
   ]
  },
  {
   "cell_type": "code",
   "execution_count": 2,
   "metadata": {},
   "outputs": [
    {
     "data": {
      "text/plain": [
       "'C:\\\\Users\\\\gary\\\\Documents\\\\aaaRepos\\\\machine_learning\\\\co-presence'"
      ]
     },
     "execution_count": 2,
     "metadata": {},
     "output_type": "execute_result"
    }
   ],
   "source": [
    "pwd"
   ]
  },
  {
   "cell_type": "code",
   "execution_count": 3,
   "metadata": {
    "collapsed": true
   },
   "outputs": [],
   "source": [
    "DATA_DIRECTORY = \"C:\\\\Users\\\\gary\\\\Documents\\\\data\""
   ]
  },
  {
   "cell_type": "code",
   "execution_count": 4,
   "metadata": {},
   "outputs": [
    {
     "name": "stdout",
     "output_type": "stream",
     "text": [
      " Volume in drive C is OS\n",
      " Volume Serial Number is F8CA-7CC7\n",
      "\n",
      " Directory of C:\\Users\\gary\\Documents\\data\n",
      "\n",
      "07/03/2017  08:42 AM    <DIR>          .\n",
      "07/03/2017  08:42 AM    <DIR>          ..\n",
      "07/02/2017  08:15 AM    <DIR>          atusact_2016\n",
      "07/01/2017  09:25 AM         3,684,229 atusact_2016.zip\n",
      "07/02/2017  08:15 AM    <DIR>          atuscps_2016\n",
      "07/01/2017  09:26 AM         6,860,353 atuscps_2016.zip\n",
      "07/02/2017  09:28 AM           864,474 atuscpscodebk16.pdf\n",
      "07/02/2017  09:29 AM           570,216 atusintcodebk16.pdf\n",
      "07/01/2017  09:35 AM    <DIR>          atusresp_2016\n",
      "07/01/2017  09:25 AM           841,679 atusresp_2016.zip\n",
      "07/02/2017  08:15 AM    <DIR>          atusrost_2016\n",
      "07/01/2017  09:25 AM           144,334 atusrost_2016.zip\n",
      "07/02/2017  08:17 AM    <DIR>          atusrostec_2016\n",
      "07/01/2017  09:26 AM            23,198 atusrostec_2016.zip\n",
      "07/02/2017  08:17 AM    <DIR>          atussum_2016\n",
      "07/01/2017  09:25 AM           713,076 atussum_2016.zip\n",
      "07/02/2017  08:17 AM    <DIR>          atuswho_2016\n",
      "07/01/2017  09:25 AM           841,409 atuswho_2016.zip\n",
      "07/02/2017  04:16 PM    <DIR>          cps_00001.csv\n",
      "07/02/2017  04:15 PM         1,215,296 cps_00001.csv.gz\n",
      "07/02/2017  06:44 PM            98,267 freqvariables.pdf\n",
      "07/02/2017  09:26 AM            70,656 hinc01_1.xls\n",
      "07/03/2017  08:41 AM           285,378 lexiconnoex2016.pdf\n",
      "07/03/2017  08:42 AM           797,090 lexiconwex2016.pdf\n",
      "07/02/2017  08:00 PM           352,873 tu2016coderules.pdf\n",
      "07/02/2017  06:44 PM           833,607 tuquestionnaire.pdf\n",
      "              16 File(s)     18,196,135 bytes\n",
      "              10 Dir(s)  668,077,223,936 bytes free\n"
     ]
    }
   ],
   "source": [
    "ls $DATA_DIRECTORY"
   ]
  },
  {
   "cell_type": "code",
   "execution_count": 5,
   "metadata": {},
   "outputs": [
    {
     "data": {
      "text/html": [
       "<div>\n",
       "<style>\n",
       "    .dataframe thead tr:only-child th {\n",
       "        text-align: right;\n",
       "    }\n",
       "\n",
       "    .dataframe thead th {\n",
       "        text-align: left;\n",
       "    }\n",
       "\n",
       "    .dataframe tbody tr th {\n",
       "        vertical-align: top;\n",
       "    }\n",
       "</style>\n",
       "<table border=\"1\" class=\"dataframe\">\n",
       "  <thead>\n",
       "    <tr style=\"text-align: right;\">\n",
       "      <th></th>\n",
       "      <th>TUCASEID</th>\n",
       "      <th>TUACTIVITY_N</th>\n",
       "      <th>TEWHERE</th>\n",
       "      <th>TUACTDUR</th>\n",
       "      <th>TUTIER1CODE</th>\n",
       "      <th>TUTIER2CODE</th>\n",
       "      <th>TUTIER3CODE</th>\n",
       "    </tr>\n",
       "  </thead>\n",
       "  <tbody>\n",
       "    <tr>\n",
       "      <th>count</th>\n",
       "      <td>2.072130e+05</td>\n",
       "      <td>207213.000000</td>\n",
       "      <td>207213.000000</td>\n",
       "      <td>207213.000000</td>\n",
       "      <td>207213.000000</td>\n",
       "      <td>207213.000000</td>\n",
       "      <td>207213.000000</td>\n",
       "    </tr>\n",
       "    <tr>\n",
       "      <th>mean</th>\n",
       "      <td>2.016063e+13</td>\n",
       "      <td>12.085646</td>\n",
       "      <td>4.095235</td>\n",
       "      <td>81.298866</td>\n",
       "      <td>8.797860</td>\n",
       "      <td>3.514997</td>\n",
       "      <td>3.517762</td>\n",
       "    </tr>\n",
       "    <tr>\n",
       "      <th>std</th>\n",
       "      <td>3.473787e+08</td>\n",
       "      <td>8.580891</td>\n",
       "      <td>7.449853</td>\n",
       "      <td>125.492770</td>\n",
       "      <td>7.677521</td>\n",
       "      <td>7.291834</td>\n",
       "      <td>10.728536</td>\n",
       "    </tr>\n",
       "    <tr>\n",
       "      <th>min</th>\n",
       "      <td>2.016010e+13</td>\n",
       "      <td>1.000000</td>\n",
       "      <td>-1.000000</td>\n",
       "      <td>1.000000</td>\n",
       "      <td>1.000000</td>\n",
       "      <td>1.000000</td>\n",
       "      <td>1.000000</td>\n",
       "    </tr>\n",
       "    <tr>\n",
       "      <th>25%</th>\n",
       "      <td>2.016030e+13</td>\n",
       "      <td>5.000000</td>\n",
       "      <td>1.000000</td>\n",
       "      <td>15.000000</td>\n",
       "      <td>2.000000</td>\n",
       "      <td>1.000000</td>\n",
       "      <td>1.000000</td>\n",
       "    </tr>\n",
       "    <tr>\n",
       "      <th>50%</th>\n",
       "      <td>2.016061e+13</td>\n",
       "      <td>11.000000</td>\n",
       "      <td>1.000000</td>\n",
       "      <td>30.000000</td>\n",
       "      <td>11.000000</td>\n",
       "      <td>2.000000</td>\n",
       "      <td>1.000000</td>\n",
       "    </tr>\n",
       "    <tr>\n",
       "      <th>75%</th>\n",
       "      <td>2.016091e+13</td>\n",
       "      <td>17.000000</td>\n",
       "      <td>8.000000</td>\n",
       "      <td>90.000000</td>\n",
       "      <td>12.000000</td>\n",
       "      <td>3.000000</td>\n",
       "      <td>3.000000</td>\n",
       "    </tr>\n",
       "    <tr>\n",
       "      <th>max</th>\n",
       "      <td>2.016121e+13</td>\n",
       "      <td>81.000000</td>\n",
       "      <td>89.000000</td>\n",
       "      <td>1440.000000</td>\n",
       "      <td>50.000000</td>\n",
       "      <td>99.000000</td>\n",
       "      <td>99.000000</td>\n",
       "    </tr>\n",
       "  </tbody>\n",
       "</table>\n",
       "</div>"
      ],
      "text/plain": [
       "           TUCASEID   TUACTIVITY_N        TEWHERE       TUACTDUR  \\\n",
       "count  2.072130e+05  207213.000000  207213.000000  207213.000000   \n",
       "mean   2.016063e+13      12.085646       4.095235      81.298866   \n",
       "std    3.473787e+08       8.580891       7.449853     125.492770   \n",
       "min    2.016010e+13       1.000000      -1.000000       1.000000   \n",
       "25%    2.016030e+13       5.000000       1.000000      15.000000   \n",
       "50%    2.016061e+13      11.000000       1.000000      30.000000   \n",
       "75%    2.016091e+13      17.000000       8.000000      90.000000   \n",
       "max    2.016121e+13      81.000000      89.000000    1440.000000   \n",
       "\n",
       "         TUTIER1CODE    TUTIER2CODE    TUTIER3CODE  \n",
       "count  207213.000000  207213.000000  207213.000000  \n",
       "mean        8.797860       3.514997       3.517762  \n",
       "std         7.677521       7.291834      10.728536  \n",
       "min         1.000000       1.000000       1.000000  \n",
       "25%         2.000000       1.000000       1.000000  \n",
       "50%        11.000000       2.000000       1.000000  \n",
       "75%        12.000000       3.000000       3.000000  \n",
       "max        50.000000      99.000000      99.000000  "
      ]
     },
     "execution_count": 5,
     "metadata": {},
     "output_type": "execute_result"
    }
   ],
   "source": [
    "filename = DATA_DIRECTORY + '/atusact_2016/atusact_2016.dat'\n",
    "resp = pd.read_csv(filename, usecols=dd.ACTIVITY_FIELDS)\n",
    "resp.describe()"
   ]
  },
  {
   "cell_type": "code",
   "execution_count": 6,
   "metadata": {},
   "outputs": [
    {
     "name": "stdout",
     "output_type": "stream",
     "text": [
      "<class 'pandas.core.frame.DataFrame'>\n",
      "RangeIndex: 207213 entries, 0 to 207212\n",
      "Data columns (total 9 columns):\n",
      "TUCASEID        207213 non-null int64\n",
      "TUACTIVITY_N    207213 non-null int64\n",
      "TEWHERE         207213 non-null int64\n",
      "TUACTDUR        207213 non-null int64\n",
      "TUSTARTTIM      207213 non-null object\n",
      "TUSTOPTIME      207213 non-null object\n",
      "TUTIER1CODE     207213 non-null int64\n",
      "TUTIER2CODE     207213 non-null int64\n",
      "TUTIER3CODE     207213 non-null int64\n",
      "dtypes: int64(7), object(2)\n",
      "memory usage: 14.2+ MB\n"
     ]
    }
   ],
   "source": [
    "resp.info()"
   ]
  },
  {
   "cell_type": "code",
   "execution_count": 7,
   "metadata": {},
   "outputs": [
    {
     "data": {
      "text/plain": [
       "['TUCASEID',\n",
       " 'TUACTIVITY_N',\n",
       " 'TEWHERE',\n",
       " 'TUACTDUR',\n",
       " 'TUSTARTTIM',\n",
       " 'TUSTOPTIME',\n",
       " 'TUTIER1CODE',\n",
       " 'TUTIER2CODE',\n",
       " 'TUTIER3CODE']"
      ]
     },
     "execution_count": 7,
     "metadata": {},
     "output_type": "execute_result"
    }
   ],
   "source": [
    "list(resp)"
   ]
  },
  {
   "cell_type": "code",
   "execution_count": 13,
   "metadata": {},
   "outputs": [
    {
     "data": {
      "text/plain": [
       "1440"
      ]
     },
     "execution_count": 13,
     "metadata": {},
     "output_type": "execute_result"
    }
   ],
   "source": [
    "resp.TUACTDUR.max()"
   ]
  },
  {
   "cell_type": "code",
   "execution_count": 22,
   "metadata": {},
   "outputs": [],
   "source": [
    "resp222 = resp.loc[(resp['TUTIER1CODE'] == 2) & (resp['TUTIER2CODE'] == 2) & (resp['TUTIER3CODE'] == 2)]"
   ]
  },
  {
   "cell_type": "code",
   "execution_count": 23,
   "metadata": {},
   "outputs": [
    {
     "data": {
      "text/plain": [
       "307"
      ]
     },
     "execution_count": 23,
     "metadata": {},
     "output_type": "execute_result"
    }
   ],
   "source": [
    "len(resp222)"
   ]
  },
  {
   "cell_type": "code",
   "execution_count": 24,
   "metadata": {},
   "outputs": [
    {
     "data": {
      "text/html": [
       "<div>\n",
       "<style>\n",
       "    .dataframe thead tr:only-child th {\n",
       "        text-align: right;\n",
       "    }\n",
       "\n",
       "    .dataframe thead th {\n",
       "        text-align: left;\n",
       "    }\n",
       "\n",
       "    .dataframe tbody tr th {\n",
       "        vertical-align: top;\n",
       "    }\n",
       "</style>\n",
       "<table border=\"1\" class=\"dataframe\">\n",
       "  <thead>\n",
       "    <tr style=\"text-align: right;\">\n",
       "      <th></th>\n",
       "      <th>TUCASEID</th>\n",
       "      <th>TUACTIVITY_N</th>\n",
       "      <th>TEWHERE</th>\n",
       "      <th>TUACTDUR</th>\n",
       "      <th>TUTIER1CODE</th>\n",
       "      <th>TUTIER2CODE</th>\n",
       "      <th>TUTIER3CODE</th>\n",
       "    </tr>\n",
       "  </thead>\n",
       "  <tbody>\n",
       "    <tr>\n",
       "      <th>count</th>\n",
       "      <td>3.070000e+02</td>\n",
       "      <td>307.000000</td>\n",
       "      <td>307.000000</td>\n",
       "      <td>307.000000</td>\n",
       "      <td>307.0</td>\n",
       "      <td>307.0</td>\n",
       "      <td>307.0</td>\n",
       "    </tr>\n",
       "    <tr>\n",
       "      <th>mean</th>\n",
       "      <td>2.016061e+13</td>\n",
       "      <td>16.332248</td>\n",
       "      <td>1.296417</td>\n",
       "      <td>15.381107</td>\n",
       "      <td>2.0</td>\n",
       "      <td>2.0</td>\n",
       "      <td>2.0</td>\n",
       "    </tr>\n",
       "    <tr>\n",
       "      <th>std</th>\n",
       "      <td>3.577121e+08</td>\n",
       "      <td>9.588274</td>\n",
       "      <td>1.452996</td>\n",
       "      <td>20.665592</td>\n",
       "      <td>0.0</td>\n",
       "      <td>0.0</td>\n",
       "      <td>0.0</td>\n",
       "    </tr>\n",
       "    <tr>\n",
       "      <th>min</th>\n",
       "      <td>2.016010e+13</td>\n",
       "      <td>2.000000</td>\n",
       "      <td>1.000000</td>\n",
       "      <td>1.000000</td>\n",
       "      <td>2.0</td>\n",
       "      <td>2.0</td>\n",
       "      <td>2.0</td>\n",
       "    </tr>\n",
       "    <tr>\n",
       "      <th>25%</th>\n",
       "      <td>2.016030e+13</td>\n",
       "      <td>8.500000</td>\n",
       "      <td>1.000000</td>\n",
       "      <td>5.000000</td>\n",
       "      <td>2.0</td>\n",
       "      <td>2.0</td>\n",
       "      <td>2.0</td>\n",
       "    </tr>\n",
       "    <tr>\n",
       "      <th>50%</th>\n",
       "      <td>2.016060e+13</td>\n",
       "      <td>16.000000</td>\n",
       "      <td>1.000000</td>\n",
       "      <td>10.000000</td>\n",
       "      <td>2.0</td>\n",
       "      <td>2.0</td>\n",
       "      <td>2.0</td>\n",
       "    </tr>\n",
       "    <tr>\n",
       "      <th>75%</th>\n",
       "      <td>2.016091e+13</td>\n",
       "      <td>22.000000</td>\n",
       "      <td>1.000000</td>\n",
       "      <td>15.000000</td>\n",
       "      <td>2.0</td>\n",
       "      <td>2.0</td>\n",
       "      <td>2.0</td>\n",
       "    </tr>\n",
       "    <tr>\n",
       "      <th>max</th>\n",
       "      <td>2.016121e+13</td>\n",
       "      <td>46.000000</td>\n",
       "      <td>12.000000</td>\n",
       "      <td>225.000000</td>\n",
       "      <td>2.0</td>\n",
       "      <td>2.0</td>\n",
       "      <td>2.0</td>\n",
       "    </tr>\n",
       "  </tbody>\n",
       "</table>\n",
       "</div>"
      ],
      "text/plain": [
       "           TUCASEID  TUACTIVITY_N     TEWHERE    TUACTDUR  TUTIER1CODE  \\\n",
       "count  3.070000e+02    307.000000  307.000000  307.000000        307.0   \n",
       "mean   2.016061e+13     16.332248    1.296417   15.381107          2.0   \n",
       "std    3.577121e+08      9.588274    1.452996   20.665592          0.0   \n",
       "min    2.016010e+13      2.000000    1.000000    1.000000          2.0   \n",
       "25%    2.016030e+13      8.500000    1.000000    5.000000          2.0   \n",
       "50%    2.016060e+13     16.000000    1.000000   10.000000          2.0   \n",
       "75%    2.016091e+13     22.000000    1.000000   15.000000          2.0   \n",
       "max    2.016121e+13     46.000000   12.000000  225.000000          2.0   \n",
       "\n",
       "       TUTIER2CODE  TUTIER3CODE  \n",
       "count        307.0        307.0  \n",
       "mean           2.0          2.0  \n",
       "std            0.0          0.0  \n",
       "min            2.0          2.0  \n",
       "25%            2.0          2.0  \n",
       "50%            2.0          2.0  \n",
       "75%            2.0          2.0  \n",
       "max            2.0          2.0  "
      ]
     },
     "execution_count": 24,
     "metadata": {},
     "output_type": "execute_result"
    }
   ],
   "source": [
    "resp222.describe()"
   ]
  },
  {
   "cell_type": "markdown",
   "metadata": {},
   "source": [
    "# Print data definitions"
   ]
  },
  {
   "cell_type": "code",
   "execution_count": null,
   "metadata": {},
   "outputs": [],
   "source": [
    "for code1, dict1 in dd.ACTIVITY_CODE.items():\n",
    "    for name1, dict2 in dict1.items():\n",
    "        print(code1, name1)\n",
    "        for code2, dict3 in dict2.items():\n",
    "            for name2, dict4 in dict3.items():\n",
    "                print( '\\t', code2, name2)\n",
    "                for code3, name3 in dict4.items():\n",
    "                    print('\\t\\t', code3, name3)"
   ]
  },
  {
   "cell_type": "code",
   "execution_count": null,
   "metadata": {},
   "outputs": [],
   "source": [
    "for code1, name1 in dd.ACTIVITY_WHERE.items():\n",
    "        print(code1, name1)"
   ]
  },
  {
   "cell_type": "code",
   "execution_count": null,
   "metadata": {},
   "outputs": [],
   "source": [
    "for code1, name1 in dd.ACTIVITY_WHO.items():\n",
    "        print(code1, name1)"
   ]
  },
  {
   "cell_type": "code",
   "execution_count": null,
   "metadata": {
    "collapsed": true
   },
   "outputs": [],
   "source": []
  }
 ],
 "metadata": {
  "kernelspec": {
   "display_name": "Python 3",
   "language": "python",
   "name": "python3"
  },
  "language_info": {
   "codemirror_mode": {
    "name": "ipython",
    "version": 3
   },
   "file_extension": ".py",
   "mimetype": "text/x-python",
   "name": "python",
   "nbconvert_exporter": "python",
   "pygments_lexer": "ipython3",
   "version": "3.6.1"
  }
 },
 "nbformat": 4,
 "nbformat_minor": 2
}
